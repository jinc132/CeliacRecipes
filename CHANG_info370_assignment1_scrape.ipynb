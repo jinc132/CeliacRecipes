{
 "cells": [
  {
   "cell_type": "code",
   "execution_count": 1,
   "metadata": {},
   "outputs": [],
   "source": [
    "from bs4 import BeautifulSoup\n",
    "import requests\n",
    "import pandas as pd"
   ]
  },
  {
   "cell_type": "code",
   "execution_count": 2,
   "metadata": {},
   "outputs": [],
   "source": [
    "recipes = []\n",
    "urls = []"
   ]
  },
  {
   "cell_type": "code",
   "execution_count": 3,
   "metadata": {},
   "outputs": [],
   "source": [
    "# Collect and store all the recipe Urls.\n",
    "for i in range(1, 3) :\n",
    "    url = \"https://celiac.org/marketplace/recipe/page/\" + str(i) + \"?show=90\"\n",
    "    page = requests.get(url)\n",
    "    soup = BeautifulSoup(page.text, 'lxml')\n",
    "    header = soup.find_all('header', {\"class\": \"item-header\"})\n",
    "    for link in header :\n",
    "        urls.append(link.a['href'])"
   ]
  },
  {
   "cell_type": "code",
   "execution_count": 4,
   "metadata": {},
   "outputs": [
    {
     "data": {
      "text/plain": [
       "180"
      ]
     },
     "execution_count": 4,
     "metadata": {},
     "output_type": "execute_result"
    }
   ],
   "source": [
    "# Check amount of recipes\n",
    "len(urls)"
   ]
  },
  {
   "cell_type": "code",
   "execution_count": 8,
   "metadata": {},
   "outputs": [],
   "source": [
    "# Locate and store url, name, and ingredients.\n",
    "for link in urls:\n",
    "    checker = []\n",
    "    req = requests.get(link)\n",
    "    soup = BeautifulSoup(req.text, 'lxml')\n",
    "    name = soup.find('h1',{\"class\": \"item-name\"}).text\n",
    "    span = soup.find_all(\"span\", {\"class\":\"wpurp-recipe-ingredient-name\"})\n",
    "    for ingredient in span:\n",
    "        ingredient = ingredient.text.title()\n",
    "        # Check for duplicate links\n",
    "        if ingredient not in checker :\n",
    "            recipes.append((link, name.strip(), ingredient))\n",
    "            checker.append(ingredient)    \n",
    "            "
   ]
  },
  {
   "cell_type": "code",
   "execution_count": 9,
   "metadata": {},
   "outputs": [],
   "source": [
    "# Create data frame showing the links, recipe names, and ingredients\n",
    "df = pd.DataFrame(recipes, columns=['url', 'name', 'ingredients'])"
   ]
  },
  {
   "cell_type": "code",
   "execution_count": 10,
   "metadata": {},
   "outputs": [],
   "source": [
    "df.to_csv('CHANG_info370_assignment1_rawData.csv', index=False, encoding='utf-8')"
   ]
  }
 ],
 "metadata": {
  "kernelspec": {
   "display_name": "Python 3",
   "language": "python",
   "name": "python3"
  }
 },
 "nbformat": 4,
 "nbformat_minor": 2
}
