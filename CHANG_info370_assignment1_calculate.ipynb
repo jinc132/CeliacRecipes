{
 "cells": [
  {
   "cell_type": "code",
   "execution_count": 1,
   "metadata": {},
   "outputs": [],
   "source": [
    "import pandas as pd"
   ]
  },
  {
   "cell_type": "code",
   "execution_count": 2,
   "metadata": {},
   "outputs": [],
   "source": [
    "data = pd.read_csv('./CHANG_info370_assignment1_cleanData.csv')"
   ]
  },
  {
   "cell_type": "code",
   "execution_count": 3,
   "metadata": {},
   "outputs": [],
   "source": [
    "# Calculate and sort the top 10 total counts for each word on the recipe list\n",
    "counts = data['ingredients'].value_counts().head(10)\n",
    "# Set the column names to word and count\n",
    "count_frame = counts.rename_axis('word').reset_index(name='counts')"
   ]
  },
  {
   "cell_type": "code",
   "execution_count": 4,
   "metadata": {},
   "outputs": [],
   "source": [
    "# Total number of recipes\n",
    "total_recipes = len(data.groupby('name'))"
   ]
  },
  {
   "cell_type": "code",
   "execution_count": 5,
   "metadata": {},
   "outputs": [],
   "source": [
    "# The proportion which is the total count for each word / number of recipes\n",
    "prop = data['ingredients'].value_counts() / total_recipes\n",
    "# Renaming the column names to word and proportion\n",
    "prop_frame = prop.rename_axis('word').reset_index(name='proportion')\n",
    "# Top 10 most commonly occuring words in the recipe list by proportion\n",
    "prop_frame = prop_frame.sort_values(by='proportion', ascending=False).head(10)"
   ]
  },
  {
   "cell_type": "code",
   "execution_count": 6,
   "metadata": {},
   "outputs": [],
   "source": [
    "# Merge the two dataframes to create one combined data frame\n",
    "calc_df = pd.merge(count_frame, prop_frame, on=['word'])"
   ]
  },
  {
   "cell_type": "code",
   "execution_count": 7,
   "metadata": {},
   "outputs": [],
   "source": [
    "# Create csv of results\n",
    "calc_df.to_csv('CHANG_info370_assignment1_calculate.csv', index=False, encoding='utf-8')"
   ]
  }
 ],
 "metadata": {
  "kernelspec": {
   "display_name": "Python 3",
   "language": "python",
   "name": "python3"
  },
  "language_info": {
   "codemirror_mode": {
    "name": "ipython",
    "version": 3
   },
   "file_extension": ".py",
   "mimetype": "text/x-python",
   "name": "python",
   "nbconvert_exporter": "python",
   "pygments_lexer": "ipython3",
   "version": "3.6.5"
  }
 },
 "nbformat": 4,
 "nbformat_minor": 2
}
